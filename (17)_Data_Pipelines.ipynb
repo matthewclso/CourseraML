{
  "nbformat": 4,
  "nbformat_minor": 0,
  "metadata": {
    "accelerator": "GPU",
    "colab": {
      "name": "(17) Data Pipelines",
      "provenance": [],
      "collapsed_sections": []
    },
    "coursera": {
      "course_slug": "data-pipelines-tensorflow",
      "graded_item_id": "kYLnd",
      "launcher_item_id": "YBlDH"
    },
    "kernelspec": {
      "display_name": "Python 3",
      "language": "python",
      "name": "python3"
    },
    "language_info": {
      "codemirror_mode": {
        "name": "ipython",
        "version": 3
      },
      "file_extension": ".py",
      "mimetype": "text/x-python",
      "name": "python",
      "nbconvert_exporter": "python",
      "pygments_lexer": "ipython3",
      "version": "3.6.8"
    }
  },
  "cells": [
    {
      "cell_type": "markdown",
      "metadata": {
        "id": "vkJIFze09MiX"
      },
      "source": [
        "# Rock, Paper, Scissors\n",
        "\n",
        "In this week's exercise you will be working with TFDS and the rock-paper-scissors dataset. You'll do a few tasks such as exploring the info of the dataset in order to figure out the name of the splits. You'll also write code to see if the dataset supports the new S3 API before creating your own versions of the dataset."
      ]
    },
    {
      "cell_type": "markdown",
      "metadata": {
        "id": "6ukZvdjR9MiY"
      },
      "source": [
        "## Setup"
      ]
    },
    {
      "cell_type": "code",
      "metadata": {
        "id": "TTBSvHcSLBzc"
      },
      "source": [
        "# Use all imports\n",
        "from os import getcwd\n",
        "\n",
        "import tensorflow as tf\n",
        "import tensorflow_datasets as tfds"
      ],
      "execution_count": null,
      "outputs": []
    },
    {
      "cell_type": "markdown",
      "metadata": {
        "id": "l6uIo6Qp9Mib"
      },
      "source": [
        "## Extract the Rock, Paper, Scissors Dataset\n",
        "\n",
        "In the cell below, you will extract the `rock_paper_scissors` dataset and then print its info. Take note of the splits, what they're called, and their size."
      ]
    },
    {
      "cell_type": "code",
      "metadata": {
        "id": "KGsVrzy84WI2",
        "colab": {
          "base_uri": "https://localhost:8080/",
          "height": 442
        },
        "outputId": "4602475d-c8ef-4c32-925d-546f8993fb75"
      },
      "source": [
        "# EXERCISE: Use tfds.load to extract the rock_paper_scissors dataset.\n",
        "\n",
        "data, info = tfds.load(name = \"rock_paper_scissors:3.*.*\", with_info = True) # (Include the following argument in your code: data_dir=filePath)\n",
        "print(info)"
      ],
      "execution_count": null,
      "outputs": [
        {
          "output_type": "stream",
          "text": [
            "tfds.core.DatasetInfo(\n",
            "    name='rock_paper_scissors',\n",
            "    version=3.0.0,\n",
            "    description='Images of hands playing rock, paper, scissor game.',\n",
            "    homepage='http://laurencemoroney.com/rock-paper-scissors-dataset',\n",
            "    features=FeaturesDict({\n",
            "        'image': Image(shape=(300, 300, 3), dtype=tf.uint8),\n",
            "        'label': ClassLabel(shape=(), dtype=tf.int64, num_classes=3),\n",
            "    }),\n",
            "    total_num_examples=2892,\n",
            "    splits={\n",
            "        'test': 372,\n",
            "        'train': 2520,\n",
            "    },\n",
            "    supervised_keys=('image', 'label'),\n",
            "    citation=\"\"\"@ONLINE {rps,\n",
            "    author = \"Laurence Moroney\",\n",
            "    title = \"Rock, Paper, Scissors Dataset\",\n",
            "    month = \"feb\",\n",
            "    year = \"2019\",\n",
            "    url = \"http://laurencemoroney.com/rock-paper-scissors-dataset\"\n",
            "    }\"\"\",\n",
            "    redistribution_info=,\n",
            ")\n",
            "\n"
          ],
          "name": "stdout"
        }
      ]
    },
    {
      "cell_type": "code",
      "metadata": {
        "id": "epPGTUqE5Z2E",
        "colab": {
          "base_uri": "https://localhost:8080/",
          "height": 51
        },
        "outputId": "4c045674-4b3a-494b-82b0-752372e012bc"
      },
      "source": [
        "# EXERCISE: In the space below, write code that iterates through the splits\n",
        "# without hardcoding any keys. The code should extract 'test' and 'train' as\n",
        "# the keys, and then print out the number of items in the dataset for each key. \n",
        "# HINT: num_examples property is very useful here.\n",
        "\n",
        "for i in data:\n",
        "  print(str(i) + \":\" + str(info.splits[i].num_examples))\n",
        "\n",
        "# EXPECTED OUTPUT\n",
        "# test:372\n",
        "# train:2520"
      ],
      "execution_count": null,
      "outputs": [
        {
          "output_type": "stream",
          "text": [
            "test:372\n",
            "train:2520\n"
          ],
          "name": "stdout"
        }
      ]
    },
    {
      "cell_type": "markdown",
      "metadata": {
        "id": "SP_Hf43f9Mif"
      },
      "source": [
        "## Use the New S3 API\n",
        "\n",
        "Before using the new S3 API, you must first find out whether the `rock_paper_scissors` dataset implements the new S3 API. In the cell below you should use version `3.*.*` of the `rock_paper_scissors` dataset."
      ]
    },
    {
      "cell_type": "code",
      "metadata": {
        "id": "Ms5ld5Ov6_OP",
        "colab": {
          "base_uri": "https://localhost:8080/",
          "height": 34
        },
        "outputId": "e010ed7b-6ea1-47ba-a947-02d4bfc8c474"
      },
      "source": [
        "# EXERCISE: In the space below, use the tfds.builder to fetch the\n",
        "# rock_paper_scissors dataset and check to see if it supports the\n",
        "# new S3 API. \n",
        "# HINT: The builder should 'implement' something\n",
        "\n",
        "rps_builder = tfds.builder(\"rock_paper_scissors:3.*.*\") # (Include the following arguments in your code: \"rock_paper_scissors:3.*.*\", data_dir=filePath)\n",
        "\n",
        "print(rps_builder.version.implements(tfds.core.Experiment.S3))\n",
        "\n",
        "# Expected output:\n",
        "# True"
      ],
      "execution_count": null,
      "outputs": [
        {
          "output_type": "stream",
          "text": [
            "True\n"
          ],
          "name": "stdout"
        }
      ]
    },
    {
      "cell_type": "markdown",
      "metadata": {
        "id": "VJiisD1y9Mii"
      },
      "source": [
        "## Create New Datasets with the S3 API\n",
        "\n",
        "Sometimes datasets are too big for prototyping. In the cell below, you will create a smaller dataset, where instead of using all of the training data and all of the test data, you instead have a `small_train` and `small_test` each of which are comprised of the first 10% of the records in their respective datasets."
      ]
    },
    {
      "cell_type": "code",
      "metadata": {
        "id": "QMGkJW6j7Ldl"
      },
      "source": [
        "# EXERCISE: In the space below, create two small datasets, `small_train`\n",
        "# and `small_test`, each of which are comprised of the first 10% of the\n",
        "# records in their respective datasets.\n",
        "\n",
        "small_train = tfds.load(\"rock_paper_scissors:3.*.*\", split = \"train[:10%]\") # (Include the following arguments in your code: \"rock_paper_scissors:3.*.*\", data_dir=filePath)\n",
        "small_test = tfds.load(\"rock_paper_scissors:3.*.*\", split = \"test[:10%]\") # (Include the following arguments in your code: \"rock_paper_scissors:3.*.*\", data_dir=filePath)\n",
        "\n",
        "# No expected output yet, that's in the next cell"
      ],
      "execution_count": null,
      "outputs": []
    },
    {
      "cell_type": "code",
      "metadata": {
        "id": "SOm99-zO_nAe",
        "colab": {
          "base_uri": "https://localhost:8080/",
          "height": 51
        },
        "outputId": "f8c88470-b292-4b30-8e44-3c41f8da9155"
      },
      "source": [
        "# EXERCISE: Print out the size (length) of the small versions of the datasets.\n",
        "\n",
        "print(len(list(small_train)))\n",
        "print(len(list(small_test)))\n",
        "\n",
        "# Expected output\n",
        "# 252\n",
        "# 37"
      ],
      "execution_count": null,
      "outputs": [
        {
          "output_type": "stream",
          "text": [
            "252\n",
            "37\n"
          ],
          "name": "stdout"
        }
      ]
    },
    {
      "cell_type": "markdown",
      "metadata": {
        "id": "KzR2Vp7A9Min"
      },
      "source": [
        "The original dataset doesn't have a validation set, just training and testing sets. In the cell below, you will use TFDS to create new datasets according to these rules:\n",
        "\n",
        "* `new_train`: The new training set should be the first 90% of the original training set.\n",
        "\n",
        "\n",
        "* `new_test`: The new test set should be the first 90% of the original test set.\n",
        "\n",
        "\n",
        "* `validation`: The new validation set should be the last 10% of the original training set + the last 10% of the original test set."
      ]
    },
    {
      "cell_type": "code",
      "metadata": {
        "id": "jL7KXYi17s_1",
        "colab": {
          "base_uri": "https://localhost:8080/",
          "height": 68
        },
        "outputId": "438f5c42-5019-49c1-9e6c-c4bfbee180f1"
      },
      "source": [
        "# EXERCISE: In the space below, create 3 new datasets according to\n",
        "# the rules indicated above.\n",
        "\n",
        "new_train = tfds.load(\"rock_paper_scissors:3.*.*\", split = \"train[:90%]\") # (Include the following arguments in your code: \"rock_paper_scissors:3.*.*\", data_dir=filePath)\n",
        "print(len(list(new_train)))\n",
        "\n",
        "new_test = tfds.load(\"rock_paper_scissors:3.*.*\", split = \"test[:90%]\") # (Include the following arguments in your code: \"rock_paper_scissors:3.*.*\", data_dir=filePath)\n",
        "print(len(list(new_test)))\n",
        "\n",
        "validation = tfds.load(\"rock_paper_scissors:3.*.*\", split = \"train[90%:] + test[90%:]\") # (Include the following arguments in your code: \"rock_paper_scissors:3.*.*\", data_dir=filePath)\n",
        "print(len(list(validation)))\n",
        "\n",
        "# Expected output\n",
        "# 2268\n",
        "# 335\n",
        "# 289"
      ],
      "execution_count": null,
      "outputs": [
        {
          "output_type": "stream",
          "text": [
            "2268\n",
            "335\n",
            "289\n"
          ],
          "name": "stdout"
        }
      ]
    },
    {
      "cell_type": "code",
      "metadata": {
        "id": "A3SaBCotKU8F"
      },
      "source": [
        ""
      ],
      "execution_count": null,
      "outputs": []
    }
  ]
}