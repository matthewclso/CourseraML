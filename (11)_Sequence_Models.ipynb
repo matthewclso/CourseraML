{
  "nbformat": 4,
  "nbformat_minor": 0,
  "metadata": {
    "accelerator": "GPU",
    "colab": {
      "name": "(11) Sequence Models",
      "provenance": [],
      "collapsed_sections": [],
      "toc_visible": true
    },
    "kernelspec": {
      "display_name": "Python 3",
      "name": "python3"
    }
  },
  "cells": [
    {
      "cell_type": "code",
      "metadata": {
        "id": "zX4Kg8DUTKWO"
      },
      "source": [
        "#@title Licensed under the Apache License, Version 2.0 (the \"License\");\n",
        "# you may not use this file except in compliance with the License.\n",
        "# You may obtain a copy of the License at\n",
        "#\n",
        "# https://www.apache.org/licenses/LICENSE-2.0\n",
        "#\n",
        "# Unless required by applicable law or agreed to in writing, software\n",
        "# distributed under the License is distributed on an \"AS IS\" BASIS,\n",
        "# WITHOUT WARRANTIES OR CONDITIONS OF ANY KIND, either express or implied.\n",
        "# See the License for the specific language governing permissions and\n",
        "# limitations under the License."
      ],
      "execution_count": null,
      "outputs": []
    },
    {
      "cell_type": "code",
      "metadata": {
        "id": "hmA6EzkQJ5jt"
      },
      "source": [
        "import json\n",
        "import tensorflow as tf\n",
        "import csv\n",
        "import random\n",
        "import numpy as np\n",
        "\n",
        "from tensorflow.keras.preprocessing.text import Tokenizer\n",
        "from tensorflow.keras.preprocessing.sequence import pad_sequences\n",
        "from tensorflow.keras.utils import to_categorical\n",
        "from tensorflow.keras import regularizers\n",
        "\n",
        "\n",
        "embedding_dim = 100\n",
        "max_length = 16\n",
        "trunc_type='post'\n",
        "padding_type='post'\n",
        "oov_tok = \"<OOV>\"\n",
        "training_size = 160000\n",
        "test_portion=.1\n",
        "\n",
        "corpus = []\n"
      ],
      "execution_count": null,
      "outputs": []
    },
    {
      "cell_type": "code",
      "metadata": {
        "id": "bM0l_dORKqE0",
        "colab": {
          "base_uri": "https://localhost:8080/",
          "height": 204
        },
        "outputId": "1f2c5a0d-0324-4250-9135-b3603c548021"
      },
      "source": [
        "# Note that I cleaned the Stanford dataset to remove LATIN1 encoding to make it easier for Python CSV reader\n",
        "# You can do that yourself with:\n",
        "# iconv -f LATIN1 -t UTF8 training.1600000.processed.noemoticon.csv -o training_cleaned.csv\n",
        "# I then hosted it on my site to make it easier to use in this notebook\n",
        "\n",
        "!wget --no-check-certificate \\\n",
        "    https://storage.googleapis.com/laurencemoroney-blog.appspot.com/training_cleaned.csv \\\n",
        "    -O /tmp/training_cleaned.csv\n",
        "\n",
        "num_sentences = 0\n",
        "\n",
        "with open(\"/tmp/training_cleaned.csv\") as csvfile:\n",
        "    reader = csv.reader(csvfile, delimiter=',')\n",
        "    for row in reader:\n",
        "      # Your Code here. Create list items where the first item is the text, found in row[5], and the second is the label. Note that the label is a '0' or a '4' in the text. When it's the former, make\n",
        "      # your label to be 0, otherwise 1. Keep a count of the number of sentences in num_sentences\n",
        "        list_item=[]\n",
        "        list_item.append(row[5])\n",
        "        if row[0] == \"0\":\n",
        "          list_item.append(0)\n",
        "        else:\n",
        "          list_item.append(1)\n",
        "        num_sentences = num_sentences + 1\n",
        "        corpus.append(list_item)\n"
      ],
      "execution_count": null,
      "outputs": [
        {
          "output_type": "stream",
          "text": [
            "--2020-05-22 03:15:21--  https://storage.googleapis.com/laurencemoroney-blog.appspot.com/training_cleaned.csv\n",
            "Resolving storage.googleapis.com (storage.googleapis.com)... 108.177.119.128, 2a00:1450:4013:c00::80\n",
            "Connecting to storage.googleapis.com (storage.googleapis.com)|108.177.119.128|:443... connected.\n",
            "HTTP request sent, awaiting response... 200 OK\n",
            "Length: 238942690 (228M) [application/octet-stream]\n",
            "Saving to: ‘/tmp/training_cleaned.csv’\n",
            "\n",
            "/tmp/training_clean 100%[===================>] 227.87M   203MB/s    in 1.1s    \n",
            "\n",
            "2020-05-22 03:15:23 (203 MB/s) - ‘/tmp/training_cleaned.csv’ saved [238942690/238942690]\n",
            "\n"
          ],
          "name": "stdout"
        }
      ]
    },
    {
      "cell_type": "code",
      "metadata": {
        "id": "3kxblBUjEUX-",
        "colab": {
          "base_uri": "https://localhost:8080/",
          "height": 68
        },
        "outputId": "af6364f1-ac91-4392-f98b-1d74b1ae16e6"
      },
      "source": [
        "print(num_sentences)\n",
        "print(len(corpus))\n",
        "print(corpus[1])\n",
        "\n",
        "# Expected Output:\n",
        "# 1600000\n",
        "# 1600000\n",
        "# [\"is upset that he can't update his Facebook by texting it... and might cry as a result  School today also. Blah!\", 0]"
      ],
      "execution_count": null,
      "outputs": [
        {
          "output_type": "stream",
          "text": [
            "1600000\n",
            "1600000\n",
            "[\"is upset that he can't update his Facebook by texting it... and might cry as a result  School today also. Blah!\", 0]\n"
          ],
          "name": "stdout"
        }
      ]
    },
    {
      "cell_type": "code",
      "metadata": {
        "id": "ohOGz24lsNAD"
      },
      "source": [
        "sentences=[]\n",
        "labels=[]\n",
        "random.shuffle(corpus)\n",
        "for x in range(training_size):\n",
        "    sentences.append(corpus[x][0])\n",
        "    labels.append(corpus[x][1])\n",
        "\n",
        "\n",
        "tokenizer = Tokenizer()\n",
        "tokenizer.fit_on_texts(sentences)\n",
        "\n",
        "word_index = tokenizer.word_index\n",
        "vocab_size=len(word_index)\n",
        "\n",
        "sequences = tokenizer.texts_to_sequences(sentences)\n",
        "padded = pad_sequences(sequences, maxlen = max_length, padding = padding_type, truncating = trunc_type)\n",
        "\n",
        "split = int(test_portion * training_size)\n",
        "\n",
        "test_sequences = padded[0:int(training_size * test_portion)]\n",
        "training_sequences = padded[int(training_size * test_portion):training_size]\n",
        "test_labels = labels[0:int(training_size * test_portion)]\n",
        "training_labels = labels[int(training_size * test_portion):training_size]"
      ],
      "execution_count": null,
      "outputs": []
    },
    {
      "cell_type": "code",
      "metadata": {
        "id": "gIrtRem1En3N",
        "colab": {
          "base_uri": "https://localhost:8080/",
          "height": 51
        },
        "outputId": "8b908e8c-ce31-4443-acbc-b450a4049395"
      },
      "source": [
        "print(vocab_size)\n",
        "print(word_index['i'])\n",
        "# Expected Output\n",
        "# 138858\n",
        "# 1"
      ],
      "execution_count": null,
      "outputs": [
        {
          "output_type": "stream",
          "text": [
            "138700\n",
            "1\n"
          ],
          "name": "stdout"
        }
      ]
    },
    {
      "cell_type": "code",
      "metadata": {
        "id": "C1zdgJkusRh0",
        "colab": {
          "base_uri": "https://localhost:8080/",
          "height": 204
        },
        "outputId": "b827c430-2961-420b-af2c-3cd521048b3f"
      },
      "source": [
        "# Note this is the 100 dimension version of GloVe from Stanford\n",
        "# I unzipped and hosted it on my site to make this notebook easier\n",
        "!wget --no-check-certificate \\\n",
        "    https://storage.googleapis.com/laurencemoroney-blog.appspot.com/glove.6B.100d.txt \\\n",
        "    -O /tmp/glove.6B.100d.txt\n",
        "embeddings_index = {};\n",
        "with open('/tmp/glove.6B.100d.txt') as f:\n",
        "    for line in f:\n",
        "        values = line.split();\n",
        "        word = values[0];\n",
        "        coefs = np.asarray(values[1:], dtype='float32');\n",
        "        embeddings_index[word] = coefs;\n",
        "\n",
        "embeddings_matrix = np.zeros((vocab_size+1, embedding_dim));\n",
        "for word, i in word_index.items():\n",
        "    embedding_vector = embeddings_index.get(word);\n",
        "    if embedding_vector is not None:\n",
        "        embeddings_matrix[i] = embedding_vector;"
      ],
      "execution_count": null,
      "outputs": [
        {
          "output_type": "stream",
          "text": [
            "--2020-05-22 03:16:35--  https://storage.googleapis.com/laurencemoroney-blog.appspot.com/glove.6B.100d.txt\n",
            "Resolving storage.googleapis.com (storage.googleapis.com)... 108.177.126.128, 2a00:1450:4013:c00::80\n",
            "Connecting to storage.googleapis.com (storage.googleapis.com)|108.177.126.128|:443... connected.\n",
            "HTTP request sent, awaiting response... 200 OK\n",
            "Length: 347116733 (331M) [text/plain]\n",
            "Saving to: ‘/tmp/glove.6B.100d.txt’\n",
            "\n",
            "/tmp/glove.6B.100d. 100%[===================>] 331.04M  69.4MB/s    in 4.8s    \n",
            "\n",
            "2020-05-22 03:16:40 (69.4 MB/s) - ‘/tmp/glove.6B.100d.txt’ saved [347116733/347116733]\n",
            "\n"
          ],
          "name": "stdout"
        }
      ]
    },
    {
      "cell_type": "code",
      "metadata": {
        "id": "71NLk_lpFLNt",
        "colab": {
          "base_uri": "https://localhost:8080/",
          "height": 34
        },
        "outputId": "0671e1ff-01cd-4e19-e0b8-aa3d76ec4f69"
      },
      "source": [
        "print(len(embeddings_matrix))\n",
        "# Expected Output\n",
        "# 138859"
      ],
      "execution_count": null,
      "outputs": [
        {
          "output_type": "stream",
          "text": [
            "138701\n"
          ],
          "name": "stdout"
        }
      ]
    },
    {
      "cell_type": "code",
      "metadata": {
        "id": "iKKvbuEBOGFz",
        "colab": {
          "base_uri": "https://localhost:8080/",
          "height": 1000
        },
        "outputId": "dffe47c1-8cf0-48bc-dc10-383ab4557517"
      },
      "source": [
        "model = tf.keras.Sequential([\n",
        "    tf.keras.layers.Embedding(vocab_size+1, embedding_dim, input_length=max_length, weights=[embeddings_matrix], trainable=False),\n",
        "    tf.keras.layers.Conv1D(64, 5, activation = \"relu\"),\n",
        "    tf.keras.layers.MaxPool1D(4),\n",
        "    tf.keras.layers.LSTM(64),\n",
        "    tf.keras.layers.Dense(1, activation = \"sigmoid\")\n",
        "])\n",
        "model.compile(optimizer = \"adam\", loss = \"binary_crossentropy\", metrics = [\"accuracy\"])\n",
        "model.summary()\n",
        "\n",
        "num_epochs = 50\n",
        "history = model.fit(np.array(training_sequences), np.array(training_labels), epochs=num_epochs, validation_data=(np.array(test_sequences), np.array(test_labels)), verbose=2)\n",
        "\n",
        "print(\"Training Complete\")\n"
      ],
      "execution_count": null,
      "outputs": [
        {
          "output_type": "stream",
          "text": [
            "Model: \"sequential_4\"\n",
            "_________________________________________________________________\n",
            "Layer (type)                 Output Shape              Param #   \n",
            "=================================================================\n",
            "embedding_4 (Embedding)      (None, 16, 100)           13870100  \n",
            "_________________________________________________________________\n",
            "conv1d_4 (Conv1D)            (None, 12, 64)            32064     \n",
            "_________________________________________________________________\n",
            "max_pooling1d_4 (MaxPooling1 (None, 3, 64)             0         \n",
            "_________________________________________________________________\n",
            "lstm_4 (LSTM)                (None, 64)                33024     \n",
            "_________________________________________________________________\n",
            "dense_8 (Dense)              (None, 1)                 65        \n",
            "=================================================================\n",
            "Total params: 13,935,253\n",
            "Trainable params: 65,153\n",
            "Non-trainable params: 13,870,100\n",
            "_________________________________________________________________\n",
            "Epoch 1/50\n",
            "4500/4500 - 15s - loss: 0.5489 - accuracy: 0.7155 - val_loss: 0.5431 - val_accuracy: 0.7197\n",
            "Epoch 2/50\n",
            "4500/4500 - 15s - loss: 0.5009 - accuracy: 0.7521 - val_loss: 0.5217 - val_accuracy: 0.7443\n",
            "Epoch 3/50\n",
            "4500/4500 - 15s - loss: 0.4764 - accuracy: 0.7675 - val_loss: 0.5308 - val_accuracy: 0.7324\n",
            "Epoch 4/50\n",
            "4500/4500 - 15s - loss: 0.4573 - accuracy: 0.7798 - val_loss: 0.5140 - val_accuracy: 0.7475\n",
            "Epoch 5/50\n",
            "4500/4500 - 14s - loss: 0.4400 - accuracy: 0.7905 - val_loss: 0.5429 - val_accuracy: 0.7303\n",
            "Epoch 6/50\n",
            "4500/4500 - 14s - loss: 0.4239 - accuracy: 0.8011 - val_loss: 0.5269 - val_accuracy: 0.7444\n",
            "Epoch 7/50\n",
            "4500/4500 - 15s - loss: 0.4088 - accuracy: 0.8096 - val_loss: 0.5347 - val_accuracy: 0.7427\n",
            "Epoch 8/50\n",
            "4500/4500 - 15s - loss: 0.3936 - accuracy: 0.8169 - val_loss: 0.5729 - val_accuracy: 0.7359\n",
            "Epoch 9/50\n",
            "4500/4500 - 15s - loss: 0.3795 - accuracy: 0.8263 - val_loss: 0.5656 - val_accuracy: 0.7387\n",
            "Epoch 10/50\n",
            "4500/4500 - 14s - loss: 0.3651 - accuracy: 0.8314 - val_loss: 0.5788 - val_accuracy: 0.7350\n",
            "Epoch 11/50\n",
            "4500/4500 - 14s - loss: 0.3508 - accuracy: 0.8404 - val_loss: 0.6383 - val_accuracy: 0.7297\n",
            "Epoch 12/50\n",
            "4500/4500 - 14s - loss: 0.3370 - accuracy: 0.8478 - val_loss: 0.6334 - val_accuracy: 0.7241\n",
            "Epoch 13/50\n",
            "4500/4500 - 15s - loss: 0.3249 - accuracy: 0.8538 - val_loss: 0.6507 - val_accuracy: 0.7303\n",
            "Epoch 14/50\n",
            "4500/4500 - 14s - loss: 0.3135 - accuracy: 0.8596 - val_loss: 0.6618 - val_accuracy: 0.7241\n",
            "Epoch 15/50\n",
            "4500/4500 - 14s - loss: 0.3011 - accuracy: 0.8654 - val_loss: 0.6994 - val_accuracy: 0.7251\n",
            "Epoch 16/50\n",
            "4500/4500 - 14s - loss: 0.2907 - accuracy: 0.8708 - val_loss: 0.7381 - val_accuracy: 0.7224\n",
            "Epoch 17/50\n",
            "4500/4500 - 14s - loss: 0.2805 - accuracy: 0.8761 - val_loss: 0.7570 - val_accuracy: 0.7228\n",
            "Epoch 18/50\n",
            "4500/4500 - 14s - loss: 0.2702 - accuracy: 0.8796 - val_loss: 0.7979 - val_accuracy: 0.7241\n",
            "Epoch 19/50\n",
            "4500/4500 - 15s - loss: 0.2629 - accuracy: 0.8843 - val_loss: 0.7997 - val_accuracy: 0.7146\n",
            "Epoch 20/50\n",
            "4500/4500 - 14s - loss: 0.2551 - accuracy: 0.8878 - val_loss: 0.8083 - val_accuracy: 0.7082\n",
            "Epoch 21/50\n",
            "4500/4500 - 14s - loss: 0.2458 - accuracy: 0.8932 - val_loss: 0.8541 - val_accuracy: 0.7128\n",
            "Epoch 22/50\n",
            "4500/4500 - 14s - loss: 0.2385 - accuracy: 0.8960 - val_loss: 0.9061 - val_accuracy: 0.7154\n",
            "Epoch 23/50\n",
            "4500/4500 - 15s - loss: 0.2325 - accuracy: 0.8994 - val_loss: 0.9208 - val_accuracy: 0.7091\n",
            "Epoch 24/50\n",
            "4500/4500 - 15s - loss: 0.2262 - accuracy: 0.9022 - val_loss: 0.9335 - val_accuracy: 0.7095\n",
            "Epoch 25/50\n",
            "4500/4500 - 15s - loss: 0.2199 - accuracy: 0.9053 - val_loss: 0.9472 - val_accuracy: 0.7090\n",
            "Epoch 26/50\n",
            "4500/4500 - 15s - loss: 0.2149 - accuracy: 0.9075 - val_loss: 1.0121 - val_accuracy: 0.7121\n",
            "Epoch 27/50\n",
            "4500/4500 - 14s - loss: 0.2100 - accuracy: 0.9094 - val_loss: 0.9838 - val_accuracy: 0.7094\n",
            "Epoch 28/50\n",
            "4500/4500 - 14s - loss: 0.2055 - accuracy: 0.9126 - val_loss: 1.0410 - val_accuracy: 0.7100\n",
            "Epoch 29/50\n",
            "4500/4500 - 14s - loss: 0.2006 - accuracy: 0.9148 - val_loss: 1.0501 - val_accuracy: 0.7056\n",
            "Epoch 30/50\n",
            "4500/4500 - 14s - loss: 0.1982 - accuracy: 0.9158 - val_loss: 1.0581 - val_accuracy: 0.7091\n",
            "Epoch 31/50\n",
            "4500/4500 - 14s - loss: 0.1920 - accuracy: 0.9185 - val_loss: 1.0814 - val_accuracy: 0.7066\n",
            "Epoch 32/50\n",
            "4500/4500 - 14s - loss: 0.1882 - accuracy: 0.9204 - val_loss: 1.1122 - val_accuracy: 0.7077\n",
            "Epoch 33/50\n",
            "4500/4500 - 14s - loss: 0.1872 - accuracy: 0.9208 - val_loss: 1.1558 - val_accuracy: 0.7084\n",
            "Epoch 34/50\n",
            "4500/4500 - 14s - loss: 0.1826 - accuracy: 0.9229 - val_loss: 1.1415 - val_accuracy: 0.7069\n",
            "Epoch 35/50\n",
            "4500/4500 - 14s - loss: 0.1811 - accuracy: 0.9237 - val_loss: 1.1261 - val_accuracy: 0.7038\n",
            "Epoch 36/50\n",
            "4500/4500 - 14s - loss: 0.1752 - accuracy: 0.9265 - val_loss: 1.1479 - val_accuracy: 0.7042\n",
            "Epoch 37/50\n",
            "4500/4500 - 14s - loss: 0.1730 - accuracy: 0.9280 - val_loss: 1.1820 - val_accuracy: 0.7016\n",
            "Epoch 38/50\n",
            "4500/4500 - 14s - loss: 0.1720 - accuracy: 0.9279 - val_loss: 1.2277 - val_accuracy: 0.7033\n",
            "Epoch 39/50\n",
            "4500/4500 - 14s - loss: 0.1691 - accuracy: 0.9289 - val_loss: 1.2396 - val_accuracy: 0.7045\n",
            "Epoch 40/50\n",
            "4500/4500 - 14s - loss: 0.1672 - accuracy: 0.9296 - val_loss: 1.2038 - val_accuracy: 0.7021\n",
            "Epoch 41/50\n",
            "4500/4500 - 14s - loss: 0.1641 - accuracy: 0.9323 - val_loss: 1.2371 - val_accuracy: 0.7047\n",
            "Epoch 42/50\n",
            "4500/4500 - 14s - loss: 0.1645 - accuracy: 0.9323 - val_loss: 1.2531 - val_accuracy: 0.6986\n",
            "Epoch 43/50\n",
            "4500/4500 - 14s - loss: 0.1615 - accuracy: 0.9327 - val_loss: 1.2757 - val_accuracy: 0.7039\n",
            "Epoch 44/50\n",
            "4500/4500 - 14s - loss: 0.1600 - accuracy: 0.9340 - val_loss: 1.2910 - val_accuracy: 0.6983\n",
            "Epoch 45/50\n",
            "4500/4500 - 14s - loss: 0.1581 - accuracy: 0.9345 - val_loss: 1.2748 - val_accuracy: 0.7007\n",
            "Epoch 46/50\n",
            "4500/4500 - 14s - loss: 0.1568 - accuracy: 0.9355 - val_loss: 1.2930 - val_accuracy: 0.6974\n",
            "Epoch 47/50\n",
            "4500/4500 - 15s - loss: 0.1544 - accuracy: 0.9359 - val_loss: 1.3155 - val_accuracy: 0.7042\n",
            "Epoch 48/50\n",
            "4500/4500 - 14s - loss: 0.1554 - accuracy: 0.9358 - val_loss: 1.3292 - val_accuracy: 0.6964\n",
            "Epoch 49/50\n",
            "4500/4500 - 14s - loss: 0.1517 - accuracy: 0.9378 - val_loss: 1.3477 - val_accuracy: 0.7027\n",
            "Epoch 50/50\n",
            "4500/4500 - 14s - loss: 0.1520 - accuracy: 0.9377 - val_loss: 1.3727 - val_accuracy: 0.7032\n",
            "Training Complete\n"
          ],
          "name": "stdout"
        }
      ]
    },
    {
      "cell_type": "code",
      "metadata": {
        "id": "qxju4ItJKO8F",
        "colab": {
          "base_uri": "https://localhost:8080/",
          "height": 607
        },
        "outputId": "c84f5508-dbbc-4c6b-fa5f-1488998d9125"
      },
      "source": [
        "import matplotlib.image  as mpimg\n",
        "import matplotlib.pyplot as plt\n",
        "\n",
        "#-----------------------------------------------------------\n",
        "# Retrieve a list of list results on training and test data\n",
        "# sets for each training epoch\n",
        "#-----------------------------------------------------------\n",
        "acc=history.history['accuracy']\n",
        "val_acc=history.history['val_accuracy']\n",
        "loss=history.history['loss']\n",
        "val_loss=history.history['val_loss']\n",
        "\n",
        "epochs=range(len(acc)) # Get number of epochs\n",
        "\n",
        "#------------------------------------------------\n",
        "# Plot training and validation accuracy per epoch\n",
        "#------------------------------------------------\n",
        "plt.plot(epochs, acc, 'r')\n",
        "plt.plot(epochs, val_acc, 'b')\n",
        "plt.title('Training and validation accuracy')\n",
        "plt.xlabel(\"Epochs\")\n",
        "plt.ylabel(\"Accuracy\")\n",
        "plt.legend([\"Accuracy\", \"Validation Accuracy\"])\n",
        "\n",
        "plt.figure()\n",
        "\n",
        "#------------------------------------------------\n",
        "# Plot training and validation loss per epoch\n",
        "#------------------------------------------------\n",
        "plt.plot(epochs, loss, 'r')\n",
        "plt.plot(epochs, val_loss, 'b')\n",
        "plt.title('Training and validation loss')\n",
        "plt.xlabel(\"Epochs\")\n",
        "plt.ylabel(\"Loss\")\n",
        "plt.legend([\"Loss\", \"Validation Loss\"])\n",
        "\n",
        "plt.figure()\n",
        "\n",
        "\n",
        "# Expected Output\n",
        "# A chart where the validation loss does not increase sharply!"
      ],
      "execution_count": null,
      "outputs": [
        {
          "output_type": "execute_result",
          "data": {
            "text/plain": [
              "<Figure size 432x288 with 0 Axes>"
            ]
          },
          "metadata": {
            "tags": []
          },
          "execution_count": 39
        },
        {
          "output_type": "display_data",
          "data": {
            "image/png": "[encoded data removed]",
            "text/plain": [
              "<Figure size 432x288 with 1 Axes>"
            ]
          },
          "metadata": {
            "tags": [],
            "needs_background": "light"
          }
        },
        {
          "output_type": "display_data",
          "data": {
            "image/png": "[encoded data removed]",
            "text/plain": [
              "<Figure size 432x288 with 1 Axes>"
            ]
          },
          "metadata": {
            "tags": [],
            "needs_background": "light"
          }
        },
        {
          "output_type": "display_data",
          "data": {
            "text/plain": [
              "<Figure size 432x288 with 0 Axes>"
            ]
          },
          "metadata": {
            "tags": []
          }
        }
      ]
    },
    {
      "cell_type": "code",
      "metadata": {
        "id": "OWWGJn5jdF5H"
      },
      "source": [
        ""
      ],
      "execution_count": null,
      "outputs": []
    }
  ]
}